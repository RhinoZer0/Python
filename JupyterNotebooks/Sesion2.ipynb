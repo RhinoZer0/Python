{
 "cells": [
  {
   "cell_type": "code",
   "execution_count": 1,
   "id": "9f5615e0-ab0e-4008-8669-c9fe399dd72c",
   "metadata": {},
   "outputs": [
    {
     "data": {
      "text/plain": [
       "['Apple', 'Inc.']"
      ]
     },
     "execution_count": 1,
     "metadata": {},
     "output_type": "execute_result"
    }
   ],
   "source": [
    "empresa = 'Apple Inc.'\n",
    "\n",
    "empresa[len(empresa)-1]\n",
    "lista = empresa.split()\n",
    "#lista.pop()\n",
    "#lista.pop()\n",
    "lista"
   ]
  }
 ],
 "metadata": {
  "kernelspec": {
   "display_name": "Python 3 (ipykernel)",
   "language": "python",
   "name": "python3"
  },
  "language_info": {
   "codemirror_mode": {
    "name": "ipython",
    "version": 3
   },
   "file_extension": ".py",
   "mimetype": "text/x-python",
   "name": "python",
   "nbconvert_exporter": "python",
   "pygments_lexer": "ipython3",
   "version": "3.12.4"
  }
 },
 "nbformat": 4,
 "nbformat_minor": 5
}
