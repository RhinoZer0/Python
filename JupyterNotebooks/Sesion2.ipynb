{
 "cells": [
  {
   "cell_type": "code",
   "execution_count": 1,
   "id": "9f5615e0-ab0e-4008-8669-c9fe399dd72c",
   "metadata": {
    "panel-layout": {
     "height": 66.328125,
     "visible": true,
     "width": 100
    }
   },
   "outputs": [
    {
     "name": "stdout",
     "output_type": "stream",
     "text": [
      "Hola\n"
     ]
    }
   ],
   "source": [
    "empresa = 'Apple Inc.'\n",
    "\n",
    "empresa[len(empresa)-1]\n",
    "lista = empresa.split()\n",
    "#lista.pop()\n",
    "#lista.pop()\n",
    "#lista.remove('Inc.')\n",
    "#lista.pop(0)\n",
    "#lista\n",
    "mystring = \"Hola mundo\"\n",
    "\n",
    "print(mystring[0:4])"
   ]
  },
  {
   "cell_type": "code",
   "execution_count": 2,
   "id": "4d29fad8-2be9-4c15-955f-b6e8db7e46a5",
   "metadata": {},
   "outputs": [
    {
     "data": {
      "text/plain": [
       "757.05"
      ]
     },
     "execution_count": 2,
     "metadata": {},
     "output_type": "execute_result"
    }
   ],
   "source": [
    "empresa = ['Apple','Technology',150.05,[150.25,152.35,149.75,153.20,151.50]]\n",
    "empresa [3][0]\n",
    "sum(empresa[3])"
   ]
  },
  {
   "cell_type": "code",
   "execution_count": 3,
   "id": "ec513a3e-c971-40a4-98b7-c8e3bc3217df",
   "metadata": {},
   "outputs": [],
   "source": [
    "#Tarea 1"
   ]
  },
  {
   "cell_type": "code",
   "execution_count": 4,
   "id": "ec89c8e7-04d8-4b13-b20b-8d86922709fe",
   "metadata": {},
   "outputs": [
    {
     "name": "stdout",
     "output_type": "stream",
     "text": [
      "Miercoles:  149.75\n",
      "Lunes:  150.25\n",
      "[150.25, 152.35, 149.75, 153.2, 151.5]\n",
      "[151.5, 153.2, 149.75, 152.35, 150.25]\n",
      "1.25\n",
      "151.76666666666665\n",
      "Lunes,Martes,Miércoles,Jueves,Viernes\n",
      "Miércoles\n"
     ]
    }
   ],
   "source": [
    "precios = [150.25,152.35,149.75,153.20,151.50]\n",
    "\n",
    "#Acceso a elementos\n",
    "print('Miercoles: ',precios[2])\n",
    "print('Lunes: ', precios[0])\n",
    "\n",
    "#Slicing\n",
    "precios_mitad_semana = precios[1:4]\n",
    "precios_mitad_semana\n",
    "print(precios)\n",
    "precios_invertidos = precios[::-1]#precios.reverse()\n",
    "print(precios_invertidos)\n",
    "\n",
    "\n",
    "\n",
    "#Sublistas y operaciones\n",
    "diferencia_semana = precios[4]-precios[0]\n",
    "print(diferencia_semana)\n",
    "avg_mid= sum(precios_mitad_semana)/len(precios_mitad_semana)\n",
    "print(avg_mid)\n",
    "\n",
    "#Manipulacion de cadenas\n",
    "dias =  [\"Lunes\", \"Martes\", \"Miércoles\", \"Jueves\", \"Viernes\"]\n",
    "\n",
    "dias_semana = ','.join(dias)\n",
    "print(dias_semana)\n",
    "miercoles = dias_semana[13:22]\n",
    "print(miercoles)"
   ]
  },
  {
   "cell_type": "code",
   "execution_count": 6,
   "id": "02315f74-56e1-4626-a9b4-125bacca67f4",
   "metadata": {},
   "outputs": [
    {
     "name": "stdout",
     "output_type": "stream",
     "text": [
      "[150.25, 152.35, 149.75, 153.2, 151.5]\n",
      "[150.25, 152.35, 149.75, 153.2, 151.5]\n"
     ]
    }
   ],
   "source": [
    "temporal = precios\n",
    "temporal.reverse()\n",
    "precios_invertidos2 = temporal\n",
    "print(precios)\n",
    "print(precios_invertidos2)"
   ]
  }
 ],
 "metadata": {
  "kernelspec": {
   "display_name": "Python 3 (ipykernel)",
   "language": "python",
   "name": "python3"
  },
  "language_info": {
   "codemirror_mode": {
    "name": "ipython",
    "version": 3
   },
   "file_extension": ".py",
   "mimetype": "text/x-python",
   "name": "python",
   "nbconvert_exporter": "python",
   "pygments_lexer": "ipython3",
   "version": "3.12.4"
  },
  "panel-cell-order": [
   "9f5615e0-ab0e-4008-8669-c9fe399dd72c"
  ]
 },
 "nbformat": 4,
 "nbformat_minor": 5
}
