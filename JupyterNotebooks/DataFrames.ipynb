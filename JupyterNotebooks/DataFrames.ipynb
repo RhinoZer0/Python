{
 "cells": [
  {
   "cell_type": "code",
   "execution_count": 1,
   "id": "e08c777a-da30-436a-80cf-ed3a624f1604",
   "metadata": {},
   "outputs": [
    {
     "name": "stdout",
     "output_type": "stream",
     "text": [
      "        artist                    track\n",
      "0    Bob Dylan     Like A Rolling Stone\n",
      "1  John Lennon                  Imagine\n",
      "2  The Beatles                 Hey Jude\n",
      "3      Nirvana  Smells Like Teen Spirit\n"
     ]
    }
   ],
   "source": [
    "import pandas as pd\n",
    "music = [\n",
    "    ['Bob Dylan','Like A Rolling Stone'],\n",
    "    ['John Lennon','Imagine'],\n",
    "    ['The Beatles','Hey Jude'],\n",
    "    ['Nirvana','Smells Like Teen Spirit']\n",
    "]\n",
    "\n",
    "entries = ['artist','track']\n",
    "\n",
    "playlist = pd.DataFrame(data=music, columns=entries)\n",
    "\n",
    "print(playlist)"
   ]
  }
 ],
 "metadata": {
  "kernelspec": {
   "display_name": "Python 3 (ipykernel)",
   "language": "python",
   "name": "python3"
  },
  "language_info": {
   "codemirror_mode": {
    "name": "ipython",
    "version": 3
   },
   "file_extension": ".py",
   "mimetype": "text/x-python",
   "name": "python",
   "nbconvert_exporter": "python",
   "pygments_lexer": "ipython3",
   "version": "3.12.4"
  }
 },
 "nbformat": 4,
 "nbformat_minor": 5
}
