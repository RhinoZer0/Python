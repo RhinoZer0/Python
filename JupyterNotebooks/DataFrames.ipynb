{
 "cells": [
  {
   "cell_type": "code",
   "execution_count": 2,
   "id": "cb939307-54b2-4363-b1e8-ff16cd79b12f",
   "metadata": {},
   "outputs": [],
   "source": [
    "import pandas as pd"
   ]
  },
  {
   "cell_type": "code",
   "execution_count": 5,
   "id": "23ec7688-f75b-4646-ad78-83685d8dbf13",
   "metadata": {
    "panel-layout": {
     "height": 166.6666717529297,
     "visible": true,
     "width": 100
    }
   },
   "outputs": [
    {
     "name": "stdout",
     "output_type": "stream",
     "text": [
      "country    object\n",
      "capital    object\n",
      "dtype: object\n",
      "Index(['country', 'capital'], dtype='object')\n",
      "(5, 2)\n",
      "<class 'pandas.core.frame.DataFrame'>\n",
      "RangeIndex: 5 entries, 0 to 4\n",
      "Data columns (total 2 columns):\n",
      " #   Column   Non-Null Count  Dtype \n",
      "---  ------   --------------  ----- \n",
      " 0   country  5 non-null      object\n",
      " 1   capital  5 non-null      object\n",
      "dtypes: object(2)\n",
      "memory usage: 212.0+ bytes\n",
      "None\n"
     ]
    }
   ],
   "source": [
    "# preparando los datos y los nombres de las columnas\n",
    "atlas = [\n",
    "      ['France', 'Paris'],\n",
    "        ['Russia', 'Moscow'],\n",
    "        ['China', 'Beijing'],\n",
    "        ['México', 'Ciudad de México'],  \n",
    "        ['Egypt', 'Cairo'],\n",
    "]\n",
    "geography = ['country', 'capital']\n",
    "\n",
    "# creando un DataFrame\n",
    "world_map = pd.DataFrame(data=atlas , columns=geography)\n",
    "print(world_map.dtypes) #imprimimos el atributo dtypes\n",
    "print(world_map.columns) #imprimimos el atributo columns \n",
    "print(world_map.shape) #imprimimos el atributo shape \n",
    "print(world_map.info()) #imprimimos todos los atributos a la vez"
   ]
  },
  {
   "cell_type": "code",
   "execution_count": null,
   "id": "b2646bdf-a6ea-4e70-8efa-f16c256b6525",
   "metadata": {},
   "outputs": [],
   "source": [
    "import pandas as pd\n",
    "music = [\n",
    "    ['Bob Dylan','Like A Rolling Stone'],\n",
    "    ['John Lennon','Imagine'],\n",
    "    ['The Beatles','Hey Jude'],\n",
    "    ['Nirvana','Smells Like Teen Spirit']\n",
    "]\n",
    "\n",
    "entries = ['artist','track']\n",
    "\n",
    "playlist = pd.DataFrame(data=music, columns=entries)\n",
    "playlist.info()\n",
    "#print(playlist)\n",
    "playlist.loc[2,'track']"
   ]
  }
 ],
 "metadata": {
  "kernelspec": {
   "display_name": "Python 3 (ipykernel)",
   "language": "python",
   "name": "python3"
  },
  "language_info": {
   "codemirror_mode": {
    "name": "ipython",
    "version": 3
   },
   "file_extension": ".py",
   "mimetype": "text/x-python",
   "name": "python",
   "nbconvert_exporter": "python",
   "pygments_lexer": "ipython3",
   "version": "3.12.4"
  },
  "panel-cell-order": [
   "23ec7688-f75b-4646-ad78-83685d8dbf13"
  ]
 },
 "nbformat": 4,
 "nbformat_minor": 5
}
