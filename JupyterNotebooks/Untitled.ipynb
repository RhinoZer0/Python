{
 "cells": [
  {
   "cell_type": "code",
   "execution_count": 1,
   "id": "5310efa8-ed4e-4a7b-a439-2f24055ec464",
   "metadata": {},
   "outputs": [
    {
     "name": "stdout",
     "output_type": "stream",
     "text": [
      "Hello world in\n",
      "None\n"
     ]
    }
   ],
   "source": [
    "def hello_world():\n",
    "    print('Hello world in')\n",
    "\n",
    "print(hello_world())\n"
   ]
  },
  {
   "cell_type": "code",
   "execution_count": 10,
   "id": "9606540b-9888-482a-b0c4-4bf0866bb595",
   "metadata": {},
   "outputs": [
    {
     "data": {
      "text/plain": [
       "'Unknown source'"
      ]
     },
     "execution_count": 10,
     "metadata": {},
     "output_type": "execute_result"
    }
   ],
   "source": [
    "def send_message(text, source='email'):\n",
    "    if source == 'email':\n",
    "        return 'Message sent via email'\n",
    "    elif source == 'sms':\n",
    "        return 'Message sent via sms'\n",
    "    else:\n",
    "        return 'Unknown source'\n",
    "\n",
    "send_message('Hello','WhatsApp')\n",
    "#send_message('WhatsApp')"
   ]
  },
  {
   "cell_type": "code",
   "execution_count": 11,
   "id": "91f13468-6484-42e6-92b8-efd4bf166fc8",
   "metadata": {},
   "outputs": [
    {
     "name": "stdout",
     "output_type": "stream",
     "text": [
      "[[1, 2, 3]]\n"
     ]
    }
   ],
   "source": [
    "users_clean = []\n",
    "\n",
    "users_clean.append([1,2,3])\n",
    "\n",
    "print(users_clean)\n"
   ]
  }
 ],
 "metadata": {
  "kernelspec": {
   "display_name": "Python 3 (ipykernel)",
   "language": "python",
   "name": "python3"
  },
  "language_info": {
   "codemirror_mode": {
    "name": "ipython",
    "version": 3
   },
   "file_extension": ".py",
   "mimetype": "text/x-python",
   "name": "python",
   "nbconvert_exporter": "python",
   "pygments_lexer": "ipython3",
   "version": "3.12.4"
  }
 },
 "nbformat": 4,
 "nbformat_minor": 5
}
