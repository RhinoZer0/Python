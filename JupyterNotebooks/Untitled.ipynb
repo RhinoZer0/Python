{
 "cells": [
  {
   "cell_type": "code",
   "execution_count": 9,
   "id": "3a55daac-4b71-46e2-b6cc-1abdd4450008",
   "metadata": {},
   "outputs": [
    {
     "name": "stdin",
     "output_type": "stream",
     "text": [
      " 5\n",
      " 5 6 7 8 8 9 10 10\n"
     ]
    },
    {
     "name": "stdout",
     "output_type": "stream",
     "text": [
      "9\n"
     ]
    }
   ],
   "source": [
    "n = int(input())\n",
    "arr = map(int, input().split())\n",
    "\n",
    "new_arr=list(sorted(set(arr),reverse=True))\n",
    "\n",
    "print(new_arr[1])"
   ]
  },
  {
   "cell_type": "code",
   "execution_count": 4,
   "id": "01f87915-7e3b-464c-bb90-1f734b7084b3",
   "metadata": {},
   "outputs": [
    {
     "data": {
      "text/plain": [
       "[4, 5, 5, 6, 6]"
      ]
     },
     "execution_count": 4,
     "metadata": {},
     "output_type": "execute_result"
    }
   ],
   "source": [
    "sorted_arr"
   ]
  }
 ],
 "metadata": {
  "kernelspec": {
   "display_name": "Python 3 (ipykernel)",
   "language": "python",
   "name": "python3"
  },
  "language_info": {
   "codemirror_mode": {
    "name": "ipython",
    "version": 3
   },
   "file_extension": ".py",
   "mimetype": "text/x-python",
   "name": "python",
   "nbconvert_exporter": "python",
   "pygments_lexer": "ipython3",
   "version": "3.12.4"
  }
 },
 "nbformat": 4,
 "nbformat_minor": 5
}
